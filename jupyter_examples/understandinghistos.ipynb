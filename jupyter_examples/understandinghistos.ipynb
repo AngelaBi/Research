{
 "cells": [
  {
   "cell_type": "code",
   "execution_count": null,
   "metadata": {
    "scrolled": true
   },
   "outputs": [],
   "source": [
    "//---- imports for HIPO4 library\n",
    "import org.jlab.jnp.hipo4.io.*;\n",
    "import org.jlab.jnp.hipo4.data.*;\n",
    "//---- imports for GROOT library\n",
    "import org.jlab.groot.data.*;\n",
    "import org.jlab.groot.graphics.*;\n",
    "//---- imports for PHYSICS library\n",
    "import org.jlab.jnp.physics.*;\n",
    "import org.jlab.jnp.reader.*;\n",
    "\n",
    "\n"
   ]
  },
  {
   "cell_type": "code",
   "execution_count": null,
   "metadata": {},
   "outputs": [],
   "source": [
    "EmbeddedCanvas ec = new EmbeddedCanvas(800,800);\n",
    "EmbeddedCanvas ec2 = new EmbeddedCanvas(800,800);\n",
    "H1F hp=new H1F(\"plus\",10,0,180);\n",
    "H1F hm=new H1F(\"minus\",10,0,180);\n",
    "Random randomGenerator = new Random();\n",
    "for(int i=0; i<5000; i++){\n",
    "\t\t\thp.fill(randomGenerator.nextInt(180));\n",
    "            hm.fill(randomGenerator.nextInt(180));\n",
    "\t\t}\n",
    "ec.divide(2,1);\n",
    "ec.cd(0).draw(hp);\n",
    "ec.cd(1).draw(hm);\n",
    "ec.getScreenShot();\n",
    "H1F num=new H1F(\"num\",10,0,180);\n",
    "H1F den=new H1F(\"den\",10,0,180);\n",
    "H1F asym=new H1F(\"asym\",10,0,180);\n",
    "num.add(hp);\n",
    "num.sub(hm);\n",
    "den.add(hp);\n",
    "den.add(hm);\n",
    "ec2.divide(3,2);\n",
    "ec2.cd(0).draw(hp,\"E\");\n",
    "ec2.cd(1).draw(hm,\"E\");\n",
    "ec2.getScreenShot();\n",
    "ec2.cd(2).draw(num,\"E\");\n",
    "ec2.cd(3).draw(den,\"E\");\n",
    "asym=asym.divide(num,den);\n",
    "ec2.cd(4).draw(asym,\"E\");\n",
    "ec2.getScreenShot();\n"
   ]
  },
  {
   "cell_type": "code",
   "execution_count": null,
   "metadata": {},
   "outputs": [],
   "source": []
  },
  {
   "cell_type": "code",
   "execution_count": null,
   "metadata": {},
   "outputs": [],
   "source": []
  },
  {
   "cell_type": "code",
   "execution_count": null,
   "metadata": {},
   "outputs": [],
   "source": []
  },
  {
   "cell_type": "code",
   "execution_count": null,
   "metadata": {},
   "outputs": [],
   "source": [
    "\n"
   ]
  },
  {
   "cell_type": "code",
   "execution_count": null,
   "metadata": {},
   "outputs": [],
   "source": []
  },
  {
   "cell_type": "code",
   "execution_count": null,
   "metadata": {},
   "outputs": [],
   "source": [
    "\n"
   ]
  },
  {
   "cell_type": "code",
   "execution_count": null,
   "metadata": {},
   "outputs": [],
   "source": []
  }
 ],
 "metadata": {
  "kernelspec": {
   "display_name": "Java",
   "language": "java",
   "name": "java"
  },
  "language_info": {
   "codemirror_mode": "java",
   "file_extension": ".jshell",
   "mimetype": "text/x-java-source",
   "name": "Java",
   "pygments_lexer": "java",
   "version": "11.0.3+12-LTS"
  }
 },
 "nbformat": 4,
 "nbformat_minor": 2
}
