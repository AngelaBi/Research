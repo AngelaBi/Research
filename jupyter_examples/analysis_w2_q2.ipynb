{
 "cells": [
  {
   "cell_type": "markdown",
   "metadata": {},
   "source": [
    "# Analysis Example"
   ]
  },
  {
   "cell_type": "markdown",
   "metadata": {},
   "source": [
    "Before running any analysis code in the notebook make sure that\n",
    "test files were downloaded. To download the files open notebook\n",
    "get_data.ipynb in the config directory. and run the commands in\n",
    "the notebook."
   ]
  },
  {
   "cell_type": "code",
   "execution_count": null,
   "metadata": {},
   "outputs": [],
   "source": [
    "//---- imports for HIPO4 library\n",
    "import org.jlab.jnp.hipo4.io.*;\n",
    "import org.jlab.jnp.hipo4.data.*;\n",
    "//---- imports for GROOT library\n",
    "import org.jlab.groot.data.*;\n",
    "import org.jlab.groot.graphics.*;\n",
    "//---- imports for PHYSICS library\n",
    "import org.jlab.jnp.physics.*;\n",
    "\n",
    "\n",
    "HipoReader reader = new HipoReader(); // Create a reader obejct\n",
    "//../config/run_004013_00_2c.hipo\n",
    "reader.open(\"/Users/biselli/Data/clas12/rgB/pass1/dst_edeut_06321_trimmed.hipo\"); // open a file"
   ]
  },
  {
   "cell_type": "markdown",
   "metadata": {},
   "source": [
    "Now we create an Event class and a bank instance, in this case \n",
    "for particle bank. The event instance is used to read events from\n",
    "the file, and Bank instance is used to read particle bank from each event.\n",
    "NOTE ! the file must be opened first in order to initialize Bank object\n",
    "since it takes the schema for the bank from file dictionary."
   ]
  },
  {
   "cell_type": "code",
   "execution_count": null,
   "metadata": {},
   "outputs": [],
   "source": [
    "Event     event = new Event();\n",
    "Bank  particles = new Bank(reader.getSchemaFactory().getSchema(\"REC::Particle\"));"
   ]
  },
  {
   "cell_type": "markdown",
   "metadata": {},
   "source": [
    "Now we can loop over the events in the file and read particle bank and check\n",
    "for electron in the first raw, if there is one we can create lorentz vector for the\n",
    "particle and calculate W2 and Q2, and plot it. First we will declare histogram objects\n",
    "and canvas object:"
   ]
  },
  {
   "cell_type": "code",
   "execution_count": null,
   "metadata": {},
   "outputs": [],
   "source": [
    "H1F  hW = new H1F(\"hW\" ,100, 0.5, 4.0);\n",
    "H1F hQ2 = new H1F(\"hQ2\",100, 0.1, 4.0);\n",
    "hW.setTitleX(\"W [GeV]\");\n",
    "hQ2.setTitleX(\"Q^2 [GeV/c^2]\");\n",
    "\n",
    "EmbeddedCanvas ec = new EmbeddedCanvas(800,400);"
   ]
  },
  {
   "cell_type": "markdown",
   "metadata": {},
   "source": [
    "Now we can loop over the events and count how many \n",
    "events we have where electron is detected."
   ]
  },
  {
   "cell_type": "code",
   "execution_count": null,
   "metadata": {},
   "outputs": [],
   "source": [
    "int counter = 0;\n",
    "int    elec = 0;\n",
    "\n",
    "while(reader.hasNext()==true){\n",
    "    reader.nextEvent(event);\n",
    "    event.read(particles);\n",
    "    if(particles.getRows()>0){\n",
    "        int pid = particles.getInt(\"pid\",0);\n",
    "        if(pid==11){\n",
    "           elec++;\n",
    "        }\n",
    "    }\n",
    "    counter++;\n",
    "}\n",
    "System.out.println(\"processed # \" + counter + \" , electrons : \" + elec);"
   ]
  },
  {
   "cell_type": "code",
   "execution_count": null,
   "metadata": {},
   "outputs": [],
   "source": [
    "LorentzVector  vBeam   = new LorentzVector(0.0,0.0,10.6,10.6);\n",
    "LorentzVector  vTarget = new LorentzVector(0.0,0.0,0.0,0.938);\n",
    "LorentzVector electron = new LorentzVector();\n",
    "LorentzVector       vW = new LorentzVector();\n",
    "LorentzVector      vQ2 = new LorentzVector();\n",
    "\n",
    "reader.getEvent(event,0); // Reads the first event and resets to the begining of the file\n",
    "\n",
    "while(reader.hasNext()==true){\n",
    "    reader.nextEvent(event);\n",
    "    event.read(particles);\n",
    "    if(particles.getRows()>0){\n",
    "        int pid = particles.getInt(\"pid\",0);\n",
    "        if(pid==11){\n",
    "           electron.setPxPyPzM(\n",
    "               particles.getFloat(\"px\",0), \n",
    "               particles.getFloat(\"py\",0),\n",
    "               particles.getFloat(\"pz\",0),\n",
    "               0.0005\n",
    "               );\n",
    "           \n",
    "           vW.copy(vBeam);\n",
    "           vW.add(vTarget).sub(electron);\n",
    "           \n",
    "           vQ2.copy(vBeam);\n",
    "           vQ2.sub(electron);\n",
    "           \n",
    "           hW.fill(vW.mass());\n",
    "           hQ2.fill(-vQ2.mass2());\n",
    "        }\n",
    "    }\n",
    "}\n",
    "\n",
    "ec.divide(2,1);\n",
    "\n",
    "ec.cd(0).draw(hW);\n",
    "ec.cd(1).draw(hQ2);\n",
    "\n",
    "ec.getScreenShot();"
   ]
  },
  {
   "cell_type": "code",
   "execution_count": null,
   "metadata": {},
   "outputs": [],
   "source": []
  }
 ],
 "metadata": {
  "kernelspec": {
   "display_name": "Java",
   "language": "java",
   "name": "java"
  },
  "language_info": {
   "codemirror_mode": "java",
   "file_extension": ".jshell",
   "mimetype": "text/x-java-source",
   "name": "Java",
   "pygments_lexer": "java",
   "version": "11.0.3+12-LTS"
  }
 },
 "nbformat": 4,
 "nbformat_minor": 2
}
