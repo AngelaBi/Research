{
 "cells": [
  {
   "cell_type": "code",
   "execution_count": null,
   "metadata": {},
   "outputs": [],
   "source": [
    "//---- imports for HIPO4 library\n",
    "import org.jlab.jnp.hipo4.io.*;\n",
    "import org.jlab.jnp.hipo4.data.*;\n",
    "//---- imports for GROOT library\n",
    "import org.jlab.groot.data.*;\n",
    "import org.jlab.groot.graphics.*;\n",
    "//---- imports for PHYSICS library\n",
    "import org.jlab.jnp.physics.*;\n",
    "import org.jlab.jnp.reader.*;\n",
    "\n",
    "\n",
    "HipoReader reader = new HipoReader(); // Create a reader obejct\n",
    "//reader.open(\"/Users/biselli/Data/clas12/rgB/v8hipo4/out_6489_2xx.hipo\"); // open a file\n",
    "//reader.open(\"/Users/biselli/Data/clas12/rgB/pass0v16/dst_edeut_006428.hipo\"); // open a file\n",
    "//reader.open(\"/Users/biselli/Desktop/out_out_rgb_pi0_1000.hipo\");\n",
    "reader.open(\"/Users/biselli/Data/clas12/rgB/pass1/edeut_006321.hipo\");\n",
    "//reader.open(\"/home/justind/DATA/out_6489_v9_100.hipo\"); // open a file"
   ]
  },
  {
   "cell_type": "code",
   "execution_count": null,
   "metadata": {},
   "outputs": [],
   "source": [
    "   /**\n",
    "   * @param fromBank the bank containing the index variable\n",
    "   * @param idxVarName the name of the index variable\n",
    "   * @return map with keys being the index in toBank and values the indices in fromBank\n",
    "   */\n",
    "  public static Map<Integer,List<Integer>> loadMapByIndex(\n",
    "           Bank fromBank,\n",
    "           String idxVarName) {\n",
    "            \n",
    "       Map<Integer,List<Integer>> map=new HashMap<Integer,List<Integer>>();\n",
    "       if (fromBank!=null) {\n",
    "\n",
    "           for (int iFrom=0; iFrom<fromBank.getRows(); iFrom++) {\n",
    "               final int iTo = fromBank.getInt(idxVarName,iFrom);\n",
    "               if (!map.containsKey(iTo)) map.put(iTo,new ArrayList<Integer>());\n",
    "               map.get(iTo).add(iFrom);\n",
    "           }\n",
    "       }\n",
    "       return map;\n",
    "   }"
   ]
  },
  {
   "cell_type": "code",
   "execution_count": null,
   "metadata": {},
   "outputs": [],
   "source": [
    "Event     event = new Event();\n",
    "Bank  runconfig       = new Bank(reader.getSchemaFactory().getSchema(\"RUN::config\"));\n",
    "\n",
    "Bank  particles = new Bank(reader.getSchemaFactory().getSchema(\"REC::Particle\"));\n",
    "Bank calos      = new Bank(reader.getSchemaFactory().getSchema(\"REC::Calorimeter\"));\n",
    "Bank scint      = new Bank(reader.getSchemaFactory().getSchema(\"REC::Scintillator\"));\n",
    "Bank evn      = new Bank(reader.getSchemaFactory().getSchema(\"REC::Event\"));\n",
    "Bank hel      = new Bank(reader.getSchemaFactory().getSchema(\"HEL::online\"));"
   ]
  },
  {
   "cell_type": "code",
   "execution_count": null,
   "metadata": {},
   "outputs": [],
   "source": [
    "reader.getEvent(event,0); //Reads the first event and resets to the begining of the file\n",
    "int times=0;\n",
    "LorentzVector  vBeam   = new LorentzVector(0.0,0.0,10.6,10.6);\n",
    "LorentzVector  vTarget = new LorentzVector(0.0,0.0,0.0,0.938);\n",
    "LorentzVector  velectron = new LorentzVector();\n",
    "LorentzVector  vproton = new LorentzVector();\n",
    "Particle  proton = new Particle();\n",
    "Particle neutron = new Particle();\n",
    "Particle deuteron = new Particle();\n",
    "Particle electron = new Particle();\n",
    "LorentzVector       vW = new LorentzVector();\n",
    "LorentzVector      vQ2 = new LorentzVector();\n",
    "double Xbj;\n",
    "int nelec=0;\n",
    "int ndvcs=0;"
   ]
  },
  {
   "cell_type": "code",
   "execution_count": null,
   "metadata": {},
   "outputs": [],
   "source": [
    "event.read(runconfig);\n",
    "while (runconfig.getInt(\"run\",0)==0) {\n",
    "        reader.nextEvent(event);\n",
    "        event.read(runconfig);\n",
    "      }\n",
    "//reader.nextEvent(event);\n",
    "\n",
    "event.read(particles);\n",
    "runconfig.show();\n",
    "particles.show();\n"
   ]
  },
  {
   "cell_type": "code",
   "execution_count": null,
   "metadata": {},
   "outputs": [],
   "source": [
    "reader.nextEvent(event);\n",
    "event.read(runconfig);\n",
    "event.read(particles);\n",
    "runconfig.show();"
   ]
  },
  {
   "cell_type": "code",
   "execution_count": null,
   "metadata": {},
   "outputs": [],
   "source": [
    "reader.nextEvent(event);\n",
    "event.read(particles);\n",
    "event.read(calos);\n",
    "event.read(scint);\n",
    "event.read(evn);\n",
    "event.read(hel);\n",
    "particles.show();\n",
    "scint.show();\n",
    "calos.show();\n",
    "evn.show();\n",
    "hel.show();\n",
    "System.out.println(\"n rows  part : \" + particles.getRows());\n",
    "//System.out.println(\"n rows  calo : \" + calos.getRows());\n",
    "System.out.println(\"n rows  scint : \" + scint.getRows());\n",
    "System.out.println(\"pid of xx.   : \" + particles.getInt(\"pid\",3));\n",
    "Map<Integer,List<Integer>> caloMap = loadMapByIndex(scint,\"pindex\");\n",
    "System.out.println(evn.getFloat(\"startTime\",0));"
   ]
  },
  {
   "cell_type": "code",
   "execution_count": null,
   "metadata": {},
   "outputs": [],
   "source": [
    "int nn=2;\n",
    "System.out.println(\"n=\"+ nn + \" map=\" + caloMap.get(nn)); ;"
   ]
  },
  {
   "cell_type": "code",
   "execution_count": null,
   "metadata": {},
   "outputs": [],
   "source": [
    "for (int icalo : caloMap.get(nn)) {\n",
    "       final byte layer = calos.getByte(\"layer\",icalo);\n",
    "       final float energy = calos.getFloat(\"energy\",icalo);\n",
    "       System.out.println(energy); ;\n",
    "    }\n"
   ]
  }
 ],
 "metadata": {
  "kernelspec": {
   "display_name": "Java",
   "language": "java",
   "name": "java"
  },
  "language_info": {
   "codemirror_mode": "java",
   "file_extension": ".jshell",
   "mimetype": "text/x-java-source",
   "name": "Java",
   "pygments_lexer": "java",
   "version": "11.0.3+12-LTS"
  }
 },
 "nbformat": 4,
 "nbformat_minor": 2
}
