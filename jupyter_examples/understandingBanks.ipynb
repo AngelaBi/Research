{
 "cells": [
  {
   "cell_type": "code",
   "execution_count": 2,
   "metadata": {},
   "outputs": [
    {
     "name": "stdout",
     "output_type": "stream",
     "text": [
      "reader:: *****>>>>> openning file : /Users/biselli/Data/clas12/rgB/pass1/edeut_006321.hipo\n",
      "reader:: ***** dictionary entries :          140\n",
      "reader:: ************ file size   :   7028632912\n",
      "reader:: **** scan trailer #bytes :        39608\n",
      "reader:: ***** number of  records :         1237\n",
      "reader:: ***** number of  events  :      2071883\n"
     ]
    }
   ],
   "source": [
    "//---- imports for HIPO4 library\n",
    "import org.jlab.jnp.hipo4.io.*;\n",
    "import org.jlab.jnp.hipo4.data.*;\n",
    "//---- imports for GROOT library\n",
    "import org.jlab.groot.data.*;\n",
    "import org.jlab.groot.graphics.*;\n",
    "//---- imports for PHYSICS library\n",
    "import org.jlab.jnp.physics.*;\n",
    "import org.jlab.jnp.reader.*;\n",
    "\n",
    "\n",
    "HipoReader reader = new HipoReader(); // Create a reader obejct\n",
    "//reader.open(\"/Users/biselli/Data/clas12/rgB/v8hipo4/out_6489_2xx.hipo\"); // open a file\n",
    "//reader.open(\"/Users/biselli/Data/clas12/rgB/pass0v16/dst_edeut_006428.hipo\"); // open a file\n",
    "//reader.open(\"/Users/biselli/Desktop/out_out_rgb_pi0_1000.hipo\");\n",
    "reader.open(\"/Users/biselli/Data/clas12/rgB/pass1/edeut_006321.hipo\");\n",
    "//reader.open(\"/home/justind/DATA/out_6489_v9_100.hipo\"); // open a file"
   ]
  },
  {
   "cell_type": "code",
   "execution_count": 3,
   "metadata": {},
   "outputs": [],
   "source": [
    "   /**\n",
    "   * @param fromBank the bank containing the index variable\n",
    "   * @param idxVarName the name of the index variable\n",
    "   * @return map with keys being the index in toBank and values the indices in fromBank\n",
    "   */\n",
    "  public static Map<Integer,List<Integer>> loadMapByIndex(\n",
    "           Bank fromBank,\n",
    "           String idxVarName) {\n",
    "            \n",
    "       Map<Integer,List<Integer>> map=new HashMap<Integer,List<Integer>>();\n",
    "       if (fromBank!=null) {\n",
    "\n",
    "           for (int iFrom=0; iFrom<fromBank.getRows(); iFrom++) {\n",
    "               final int iTo = fromBank.getInt(idxVarName,iFrom);\n",
    "               if (!map.containsKey(iTo)) map.put(iTo,new ArrayList<Integer>());\n",
    "               map.get(iTo).add(iFrom);\n",
    "           }\n",
    "       }\n",
    "       return map;\n",
    "   }"
   ]
  },
  {
   "cell_type": "code",
   "execution_count": 4,
   "metadata": {},
   "outputs": [],
   "source": [
    "Event     event = new Event();\n",
    "Bank  runconfig       = new Bank(reader.getSchemaFactory().getSchema(\"RUN::config\"));\n",
    "\n",
    "Bank  particles = new Bank(reader.getSchemaFactory().getSchema(\"REC::Particle\"));\n",
    "Bank calos      = new Bank(reader.getSchemaFactory().getSchema(\"REC::Calorimeter\"));\n",
    "Bank scint      = new Bank(reader.getSchemaFactory().getSchema(\"REC::Scintillator\"));\n",
    "Bank evn      = new Bank(reader.getSchemaFactory().getSchema(\"REC::Event\"));\n",
    "Bank hel      = new Bank(reader.getSchemaFactory().getSchema(\"HEL::online\"));"
   ]
  },
  {
   "cell_type": "code",
   "execution_count": 5,
   "metadata": {},
   "outputs": [],
   "source": [
    "reader.getEvent(event,0); //Reads the first event and resets to the begining of the file\n",
    "int times=0;\n",
    "LorentzVector  vBeam   = new LorentzVector(0.0,0.0,10.6,10.6);\n",
    "LorentzVector  vTarget = new LorentzVector(0.0,0.0,0.0,0.938);\n",
    "LorentzVector  velectron = new LorentzVector();\n",
    "LorentzVector  vproton = new LorentzVector();\n",
    "Particle  proton = new Particle();\n",
    "Particle neutron = new Particle();\n",
    "Particle deuteron = new Particle();\n",
    "Particle electron = new Particle();\n",
    "LorentzVector       vW = new LorentzVector();\n",
    "LorentzVector      vQ2 = new LorentzVector();\n",
    "double Xbj;\n",
    "int nelec=0;\n",
    "int ndvcs=0;"
   ]
  },
  {
   "cell_type": "code",
   "execution_count": 5,
   "metadata": {},
   "outputs": [
    {
     "name": "stdout",
     "output_type": "stream",
     "text": [
      "* NODE * group =  10000, item =  11, type = 11, size =       38\n",
      "           run :       6321\n",
      "         event :         44\n",
      "      unixtime : 1550844304\n",
      "       trigger :          3\n",
      "     timestamp : 4451439292\n",
      "          type :          0\n",
      "          mode :          0\n",
      "         torus :    -1.0000\n",
      "      solenoid :    -1.0000\n",
      "\n",
      "* NODE * group =    300, item =  31, type = 11, size =      430\n",
      "           pid :         11      2212        45        22      2112        22        22        22      2112      2112\n",
      "               + \n",
      "            px :     0.5639   -0.8668   -0.7430   -0.2954   -0.0559    0.1370   -0.0509    0.0303   -0.0108   -0.0250\n",
      "               + \n",
      "            py :    -0.0094    0.4580    0.3969   -0.0334   -0.0036   -0.0299    0.0607   -0.0051   -0.0073    0.0017\n",
      "               + \n",
      "            pz :     1.6868    1.2735    0.8900    0.7459   -0.3491    0.2353    0.1632    0.1761   -0.0847    0.0138\n",
      "               + \n",
      "            vx :    -0.1508   -0.3300    0.0001   -0.1508   -0.1508   -0.1508   -0.1508   -0.1508   -0.1508   -0.1508\n",
      "               + \n",
      "            vy :    -0.0522   -0.5397    0.0002   -0.0522   -0.0522   -0.0522   -0.0522   -0.0522   -0.0522   -0.0522\n",
      "               + \n",
      "            vz :    -2.3794   -1.9313    0.3610   -2.3794   -2.3794   -2.3794   -2.3794   -2.3794   -2.3794   -2.3794\n",
      "               + \n",
      "            vt :    90.7507   90.7657   90.8421   -1.0000   -1.0000   -1.0000   -1.0000   -1.0000   -1.0000   -1.0000\n",
      "               + \n",
      "        charge :         -1         1         1         0         0         0         0         0         0         0\n",
      "               + \n",
      "          beta :     1.0000    0.8680    0.2998    0.9758    0.3522    1.0288    0.9395    0.9489    0.0909    0.0304\n",
      "               + \n",
      "       chi2pid :    -1.6936   -0.5187   30.1237 9999.0000 9999.0000 9999.0000 9999.0000 9999.0000 9999.0000 9999.0000\n",
      "               + \n",
      "        status :      -2221      2100      4100      2230      4010      2010      2110      2010      8100      4100\n",
      "               + \n",
      "\n"
     ]
    }
   ],
   "source": [
    "event.read(runconfig);\n",
    "while (runconfig.getInt(\"run\",0)==0) {\n",
    "        reader.nextEvent(event);\n",
    "        event.read(runconfig);\n",
    "      }\n",
    "//reader.nextEvent(event);\n",
    "\n",
    "event.read(particles);\n",
    "runconfig.show();\n",
    "particles.show();\n"
   ]
  },
  {
   "cell_type": "code",
   "execution_count": 7,
   "metadata": {},
   "outputs": [
    {
     "name": "stdout",
     "output_type": "stream",
     "text": [
      "* NODE * group =  10000, item =  11, type = 11, size =       38\n",
      "           run :       6321\n",
      "         event :         86\n",
      "      unixtime : 1550844304\n",
      "       trigger :          3\n",
      "     timestamp : 4452196627\n",
      "          type :          0\n",
      "          mode :          0\n",
      "         torus :    -1.0000\n",
      "      solenoid :    -1.0000\n",
      "\n"
     ]
    }
   ],
   "source": [
    "reader.nextEvent(event);\n",
    "event.read(runconfig);\n",
    "event.read(particles);\n",
    "runconfig.show();"
   ]
  },
  {
   "cell_type": "code",
   "execution_count": 8,
   "metadata": {},
   "outputs": [
    {
     "name": "stdout",
     "output_type": "stream",
     "text": [
      "* NODE * group =    300, item =  31, type = 11, size =      387\n",
      "           pid :         11         0        45        22      2112      2112         0         0         0\n",
      "            px :     0.4835   -0.0021   -0.4116    0.0514   -0.0058   -0.0100   -0.0000   -0.0000   -0.0000\n",
      "            py :     1.0205   -0.1355    0.1541   -0.2308   -0.0121   -0.0090   -0.0000   -0.0000   -0.0000\n",
      "            pz :     8.0960    0.7014    0.5207    0.4890    0.0014    0.0009    0.0000    0.0000    0.0000\n",
      "            vx :    -0.3819    2.9269   -1.0805   -0.3819   -0.3819   -0.3819   -0.3819   -0.3819   -0.3819\n",
      "            vy :     0.0116   -0.1313   -2.7448    0.0116    0.0116    0.0116    0.0116    0.0116    0.0116\n",
      "            vz :    -1.1962  -26.0039  -26.7524   -1.1962   -1.1962   -1.1962   -1.1962   -1.1962   -1.1962\n",
      "            vt :    85.2591   84.4316   84.4066   -1.0000   -1.0000   -1.0000   -1.0000   -1.0000   -1.0000\n",
      "        charge :         -1         1         1         0         0         0         0         0         0\n",
      "          beta :     1.0000  -99.0000    0.3643    1.0578    0.0144    0.0144    0.6312    0.0143    0.0143\n",
      "       chi2pid :    -2.3796 9999.0000  -40.5192 9999.0000 9999.0000 9999.0000 9999.0000 9999.0000 9999.0000\n",
      "        status :      -2131      2000      2100      2220      4100      4100      4100      4100      4100\n",
      "\n",
      "* NODE * group =    300, item =  35, type = 11, size =      459\n",
      "         index :          2         3         4         6         3         4         0         1         2\n",
      "        pindex :          0         2         3         3         4         5         6         7         8\n",
      "      detector :         12        12        12        12         4         4         4         4         4\n",
      "        sector :          2         5         6         6         1         1         1         1         1\n",
      "         layer :          2         2         1         2         1         1         1         1         1\n",
      "     component :          3        61        17        44        33        30        29        35        32\n",
      "        energy :    12.2032   74.6154   10.1229   11.3285    8.0128    4.2913   27.6291   21.7754   18.2256\n",
      "          time :   109.2991  151.5085  109.0166  108.2113  147.0135  146.5603   87.3956  147.4254  146.9380\n",
      "          path :   722.1935  732.8478  790.6101  806.8839   26.6007   26.3960   40.4321   26.6539   26.4208\n",
      "          chi2 :     0.0000    0.0000    0.0000    0.0000    0.0000    0.0000    0.0000    0.0000    0.0000\n",
      "             x :    28.0832 -275.2395   65.9738   65.7473  -11.7743  -20.0150  -22.1348   -5.1936  -14.7900\n",
      "             y :    54.0854 -282.8603 -304.3925 -294.8476  -23.8759  -17.5526  -14.7900  -26.1098  -22.1348\n",
      "             z :   717.6182  567.6056  625.6374  611.6086    1.4862    0.4740   29.5036    1.0297   -1.1560\n",
      "            hx :    29.1278 -276.2040   68.0257   67.9125    0.0000    0.0000    0.0000    0.0000    0.0000\n",
      "            hy :    53.9465 -283.7734 -310.4526 -305.6802    0.0000    0.0000    0.0000    0.0000    0.0000\n",
      "            hz :   717.4294  567.0116  647.5541  640.5397    0.0000    0.0000    0.0000    0.0000    0.0000\n",
      "        status :          1         1         1         1         1         1         1         1         1\n",
      "\n",
      "* NODE * group =    300, item =  32, type = 11, size =      485\n",
      "         index :          0         1         3         2         4\n",
      "        pindex :          0         0         0         3         3\n",
      "      detector :          7         7         7         7         7\n",
      "        sector :          2         2         2         6         6\n",
      "         layer :          1         4         7         4         7\n",
      "        energy :     1.1859    0.3566    0.0682    0.0349    0.0895\n",
      "          time :   111.0920  111.4348  113.6799  108.7509  111.4786\n",
      "          path :   765.4146  789.0110  809.2579  744.9472  766.8157\n",
      "          chi2 :     0.0000    0.0000    0.0000    0.0000    0.0000\n",
      "             x :    27.5806   36.1179   38.7237   70.0777   84.1613\n",
      "             y :    54.1775   58.1353   56.5088 -316.5127 -317.8238\n",
      "             z :   761.4376  781.7302  802.2709  669.4707  686.1490\n",
      "            hx :    29.6530   29.9398   30.1858    0.0000   77.9189\n",
      "            hy :    54.9682   55.5260   56.0046    0.0000 -320.7596\n",
      "            hz :   760.6351  784.2233  804.4630    0.0000  685.4193\n",
      "            lu :    22.2842   18.4022   16.3200  317.8989  325.7217\n",
      "            lv :    19.5227  402.6912  422.9872  361.7065  360.3319\n",
      "            lw :    10.7167  362.9536  375.8840  138.4521  160.5167\n",
      "            du :     4.0000    3.0000    4.0000    2.0000    1.0000\n",
      "            dv :     3.0000    2.0000    1.0000    1.0000    3.0000\n",
      "            dw :     2.0000    1.0000    1.0000    1.0000    2.0000\n",
      "           m2u :    21.3820   65.7716  188.9856   28.2479    0.3750\n",
      "           m2v :    14.1330   34.0296    0.3750    0.3750   70.5527\n",
      "           m2w :     7.5798    0.3750    0.3750    0.3750   30.3780\n",
      "           m3u :    -0.0297   -0.7848   -0.2088   -0.8954    0.0000\n",
      "           m3v :     0.1911    0.0476    0.0000    0.0000   -0.2639\n",
      "           m3w :     0.2495    0.0000    0.0000    0.0000    0.1859\n",
      "        status :          0         0         0         0         0\n",
      "\n",
      "* NODE * group =    300, item =  30, type = 11, size =       42\n",
      "      category :          0\n",
      "      topology :          0\n",
      "    beamCharge :     0.0000\n",
      "      liveTime :    -1.0000\n",
      "     startTime :    85.2591\n",
      "        RFTime :    61.1509\n",
      "      helicity :          0\n",
      "   helicityRaw :          0\n",
      "      procTime :     0.0000\n",
      "\n",
      "* NODE * group =  22000, item =  13, type = 11, size =        2\n",
      "      helicity :          0\n",
      "   helicityRaw :          0\n",
      "\n",
      "n rows  part : 9\n",
      "n rows  scint : 9\n",
      "pid of xx.   : 22\n",
      "85.25909\n"
     ]
    }
   ],
   "source": [
    "reader.nextEvent(event);\n",
    "event.read(particles);\n",
    "event.read(calos);\n",
    "event.read(scint);\n",
    "event.read(evn);\n",
    "event.read(hel);\n",
    "particles.show();\n",
    "scint.show();\n",
    "calos.show();\n",
    "evn.show();\n",
    "hel.show();\n",
    "System.out.println(\"n rows  part : \" + particles.getRows());\n",
    "//System.out.println(\"n rows  calo : \" + calos.getRows());\n",
    "System.out.println(\"n rows  scint : \" + scint.getRows());\n",
    "System.out.println(\"pid of xx.   : \" + particles.getInt(\"pid\",3));\n",
    "Map<Integer,List<Integer>> caloMap = loadMapByIndex(scint,\"pindex\");\n",
    "System.out.println(evn.getFloat(\"startTime\",0));"
   ]
  },
  {
   "cell_type": "code",
   "execution_count": 12,
   "metadata": {},
   "outputs": [
    {
     "name": "stdout",
     "output_type": "stream",
     "text": [
      "n=2 map=[1]\n"
     ]
    }
   ],
   "source": [
    "int nn=2;\n",
    "System.out.println(\"n=\"+ nn + \" map=\" + caloMap.get(nn)); ;"
   ]
  },
  {
   "cell_type": "code",
   "execution_count": 16,
   "metadata": {},
   "outputs": [
    {
     "name": "stdout",
     "output_type": "stream",
     "text": [
      "0.3566117\n"
     ]
    }
   ],
   "source": [
    "for (int icalo : caloMap.get(nn)) {\n",
    "       final byte layer = calos.getByte(\"layer\",icalo);\n",
    "       final float energy = calos.getFloat(\"energy\",icalo);\n",
    "       System.out.println(energy); ;\n",
    "    }\n"
   ]
  }
 ],
 "metadata": {
  "kernelspec": {
   "display_name": "Java",
   "language": "java",
   "name": "java"
  },
  "language_info": {
   "codemirror_mode": "java",
   "file_extension": ".jshell",
   "mimetype": "text/x-java-source",
   "name": "Java",
   "pygments_lexer": "java",
   "version": "11.0.3+12-LTS"
  }
 },
 "nbformat": 4,
 "nbformat_minor": 2
}
